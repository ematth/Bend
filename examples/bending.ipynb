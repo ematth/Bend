{
 "cells": [
  {
   "cell_type": "code",
   "execution_count": 27,
   "metadata": {},
   "outputs": [
    {
     "name": "stdout",
     "output_type": "stream",
     "text": [
      "Result: \"Hello Jupyter, I'm Bend!\"\n"
     ]
    }
   ],
   "source": [
    "# Bend code\n",
    "code = \"\\\n",
    "def main():\\n\\\n",
    "  return \\\"Hello Jupyter, I'm Bend!\\\"\\\n",
    "\"\n",
    "\n",
    "# Python/IPython stuff that makes this work\n",
    "with open(\".temp.bend\", \"w\") as f: print(code, file=f)\n",
    "!bend run-c .temp.bend # run generated file\n",
    "!rm .temp.bend # delete exported file"
   ]
  },
  {
   "cell_type": "code",
   "execution_count": null,
   "metadata": {},
   "outputs": [],
   "source": []
  }
 ],
 "metadata": {
  "kernelspec": {
   "display_name": "Python 3",
   "language": "python",
   "name": "python3"
  },
  "language_info": {
   "codemirror_mode": {
    "name": "ipython",
    "version": 3
   },
   "file_extension": ".py",
   "mimetype": "text/x-python",
   "name": "python",
   "nbconvert_exporter": "python",
   "pygments_lexer": "ipython3",
   "version": "3.11.7"
  }
 },
 "nbformat": 4,
 "nbformat_minor": 2
}
